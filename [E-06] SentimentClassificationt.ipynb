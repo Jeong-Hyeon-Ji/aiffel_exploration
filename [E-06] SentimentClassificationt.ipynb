{
 "cells": [
  {
   "cell_type": "code",
   "execution_count": 22,
   "id": "0a4aad44",
   "metadata": {},
   "outputs": [
    {
     "data": {
      "text/html": [
       "<div>\n",
       "<style scoped>\n",
       "    .dataframe tbody tr th:only-of-type {\n",
       "        vertical-align: middle;\n",
       "    }\n",
       "\n",
       "    .dataframe tbody tr th {\n",
       "        vertical-align: top;\n",
       "    }\n",
       "\n",
       "    .dataframe thead th {\n",
       "        text-align: right;\n",
       "    }\n",
       "</style>\n",
       "<table border=\"1\" class=\"dataframe\">\n",
       "  <thead>\n",
       "    <tr style=\"text-align: right;\">\n",
       "      <th></th>\n",
       "      <th>id</th>\n",
       "      <th>document</th>\n",
       "      <th>label</th>\n",
       "    </tr>\n",
       "  </thead>\n",
       "  <tbody>\n",
       "    <tr>\n",
       "      <th>0</th>\n",
       "      <td>9976970</td>\n",
       "      <td>아 더빙.. 진짜 짜증나네요 목소리</td>\n",
       "      <td>0</td>\n",
       "    </tr>\n",
       "    <tr>\n",
       "      <th>1</th>\n",
       "      <td>3819312</td>\n",
       "      <td>흠...포스터보고 초딩영화줄....오버연기조차 가볍지 않구나</td>\n",
       "      <td>1</td>\n",
       "    </tr>\n",
       "    <tr>\n",
       "      <th>2</th>\n",
       "      <td>10265843</td>\n",
       "      <td>너무재밓었다그래서보는것을추천한다</td>\n",
       "      <td>0</td>\n",
       "    </tr>\n",
       "    <tr>\n",
       "      <th>3</th>\n",
       "      <td>9045019</td>\n",
       "      <td>교도소 이야기구먼 ..솔직히 재미는 없다..평점 조정</td>\n",
       "      <td>0</td>\n",
       "    </tr>\n",
       "    <tr>\n",
       "      <th>4</th>\n",
       "      <td>6483659</td>\n",
       "      <td>사이몬페그의 익살스런 연기가 돋보였던 영화!스파이더맨에서 늙어보이기만 했던 커스틴 ...</td>\n",
       "      <td>1</td>\n",
       "    </tr>\n",
       "  </tbody>\n",
       "</table>\n",
       "</div>"
      ],
      "text/plain": [
       "         id                                           document  label\n",
       "0   9976970                                아 더빙.. 진짜 짜증나네요 목소리      0\n",
       "1   3819312                  흠...포스터보고 초딩영화줄....오버연기조차 가볍지 않구나      1\n",
       "2  10265843                                  너무재밓었다그래서보는것을추천한다      0\n",
       "3   9045019                      교도소 이야기구먼 ..솔직히 재미는 없다..평점 조정      0\n",
       "4   6483659  사이몬페그의 익살스런 연기가 돋보였던 영화!스파이더맨에서 늙어보이기만 했던 커스틴 ...      1"
      ]
     },
     "execution_count": 22,
     "metadata": {},
     "output_type": "execute_result"
    }
   ],
   "source": [
    "import os \n",
    "import pandas as pd\n",
    "import numpy as np\n",
    "import tensorflow as tf\n",
    "from konlpy.tag import Mecab\n",
    "from collections import Counter\n",
    "from gensim.models.keyedvectors import Word2VecKeyedVectors\n",
    "\n",
    "# 데이터 가져오기\n",
    "train_data = pd.read_table('~/aiffel/sentiment_classification/data/ratings_train.txt')\n",
    "test_data = pd.read_table('~/aiffel/sentiment_classification/data/ratings_test.txt')\n",
    "\n",
    "train_data.head()"
   ]
  },
  {
   "cell_type": "code",
   "execution_count": 23,
   "id": "c707f39f",
   "metadata": {},
   "outputs": [],
   "source": [
    "tokenizer = Mecab()\n",
    "stopwords = ['의','가','이','은','들','는','좀','잘','걍','과','도','를','으로','자','에','와','한','하다']\n",
    "\n",
    "def load_data(train_data, test_data, num_words=10000):\n",
    "    # 데이터의 중복 제거, 결측치 제거\n",
    "    train_data.drop_duplicates(subset=['document'], inplace=True)\n",
    "    train_data = train_data.dropna(how = 'any')  # 하나라도 Nan있으면 삭제\n",
    "    test_data.drop_duplicates(subset=['document'], inplace=True)\n",
    "    test_data = test_data.dropna(how = 'any') \n",
    "\n",
    "    X_train = []\n",
    "    for sentence in train_data['document']:\n",
    "        temp_X = tokenizer.morphs(sentence) # 토큰화\n",
    "        temp_X = [word for word in temp_X if not word in stopwords] # 불용어 제거\n",
    "        X_train.append(temp_X)\n",
    "\n",
    "    X_test = []\n",
    "    for sentence in test_data['document']:\n",
    "        temp_X = tokenizer.morphs(sentence) # 토큰화\n",
    "        temp_X = [word for word in temp_X if not word in stopwords] # 불용어 제거\n",
    "        X_test.append(temp_X)\n",
    "\n",
    "    # 사전word_to_index 구성\n",
    "    words = np.concatenate(X_train).tolist()  \n",
    "    counter = Counter(words)\n",
    "    counter = counter.most_common(10000-4) # 앞에 4개\n",
    "    vocab = ['<PAD>', '<BOS>', '<UNK>', '<UNUSED>'] + [key for key, _ in counter]\n",
    "    word_to_index = {word:index for index, word in enumerate(vocab)}\n",
    "\n",
    "   \n",
    "    def wordlist_to_indexlist(wordlist):\n",
    "        return [word_to_index[word] if word in word_to_index else word_to_index['<PAD>'] for word in wordlist]\n",
    "        \n",
    "    X_train = list(map(wordlist_to_indexlist, X_train))\n",
    "    X_test = list(map(wordlist_to_indexlist, X_test))\n",
    "\n",
    "    # 텍스트 스트링을 사전 인덱스 스트링으로 변환\n",
    "    return X_train, np.array(list(train_data['label'])), X_test, np.array(list(test_data['label'])), word_to_index\n",
    "    \n",
    "X_train, y_train, X_test, y_test, word_to_index = load_data(train_data, test_data)\n",
    "\n",
    "# index_to_word\n",
    "index_to_word = {index:word for word, index in word_to_index.items()}"
   ]
  },
  {
   "cell_type": "code",
   "execution_count": 24,
   "id": "57c041ee",
   "metadata": {},
   "outputs": [],
   "source": [
    "# 문장 1개를 활용할 딕셔너리와 함께 주면, 단어 인덱스 리스트 벡터로 변환해 주는 함수입니다. \n",
    "# 단, 모든 문장은 <BOS>로 시작하는 것으로 합니다. \n",
    "def get_encoded_sentence(sentence, word_to_index):\n",
    "    return [word_to_index['<BOS>']]+[word_to_index[word] if word in word_to_index else word_to_index['<UNK>'] for word in sentence.split()]\n",
    "\n",
    "# 여러 개의 문장 리스트를 한꺼번에 단어 인덱스 리스트 벡터로 encode해 주는 함수입니다. \n",
    "def get_encoded_sentences(sentences, word_to_index):\n",
    "    return [get_encoded_sentence(sentence, word_to_index) for sentence in sentences]\n",
    "\n",
    "# 숫자 벡터로 encode된 문장을 원래대로 decode하는 함수입니다. \n",
    "def get_decoded_sentence(encoded_sentence, index_to_word):\n",
    "    return ' '.join(index_to_word[index] if index in index_to_word else '<UNK>' for index in encoded_sentence[1:])  #[1:]를 통해 <BOS>를 제외\n",
    "\n",
    "# 여러 개의 숫자 벡터로 encode된 문장을 한꺼번에 원래대로 decode하는 함수입니다. \n",
    "def get_decoded_sentences(encoded_sentences, index_to_word):\n",
    "    return [get_decoded_sentence(encoded_sentence, index_to_word) for encoded_sentence in encoded_sentences]"
   ]
  },
  {
   "cell_type": "code",
   "execution_count": 25,
   "id": "8c5d7ad8",
   "metadata": {},
   "outputs": [
    {
     "name": "stdout",
     "output_type": "stream",
     "text": [
      "평균: 15.96940191154864\n",
      "최대길이: 116\n",
      "표준편차: 12.843571191092\n",
      "전체 문장 0.9342988343341575%가 maxlen설장 값 이내에 포함\n",
      "(146182, 41)\n",
      "(49157, 41)\n"
     ]
    }
   ],
   "source": [
    "# 모델 분석 및 가공\n",
    "# 데이터셋 내 문장 길이 분포\n",
    "total_data = list(X_train)+list(X_test)\n",
    "\n",
    "num_tokens = [len(tokens) for tokens in total_data]  # len([32, 74, 919, 4, 4, 39, 228, 20, 33, 748)]들을 리스트로 \n",
    "num_tokens = np.array(num_tokens)\n",
    "\n",
    "print(\"평균:\",np.mean(num_tokens))\n",
    "print(\"최대길이:\",np.max(num_tokens))\n",
    "print(\"표준편차:\",np.std(num_tokens))\n",
    "\n",
    "max_tokens = np.mean(num_tokens) + 2 * np.std(num_tokens)\n",
    "maxlen = int(max_tokens)\n",
    "print(\"전체 문장 {}%가 maxlen설장 값 이내에 포함\".format(np.sum(num_tokens<max_tokens)/len(num_tokens)))\n",
    "\n",
    "# 적절한 최대 문장 길이 지정\n",
    "X_train = tf.keras.preprocessing.sequence.pad_sequences(X_train, value=word_to_index[\"<PAD>\"], padding=\"pre\", maxlen=maxlen)\n",
    "X_test = tf.keras.preprocessing.sequence.pad_sequences(X_test, value=word_to_index[\"<PAD>\"], padding=\"pre\", maxlen=maxlen)\n",
    "\n",
    "print(X_train.shape)\n",
    "print(X_test.shape)\n"
   ]
  },
  {
   "cell_type": "code",
   "execution_count": 26,
   "id": "4066f06d",
   "metadata": {
    "scrolled": true
   },
   "outputs": [
    {
     "name": "stdout",
     "output_type": "stream",
     "text": [
      "(116945, 41)\n",
      "(29237, 41)\n"
     ]
    }
   ],
   "source": [
    "# validation set \n",
    "from sklearn.model_selection import train_test_split\n",
    "X_train, X_valid, y_train, y_valid = train_test_split(X_train, y_train, test_size=0.2, random_state=10)\n",
    "\n",
    "print(X_train.shape)\n",
    "print(X_valid.shape)"
   ]
  },
  {
   "cell_type": "code",
   "execution_count": 27,
   "id": "ee20393f",
   "metadata": {},
   "outputs": [
    {
     "name": "stdout",
     "output_type": "stream",
     "text": [
      "Model: \"sequential_3\"\n",
      "_________________________________________________________________\n",
      "Layer (type)                 Output Shape              Param #   \n",
      "=================================================================\n",
      "embedding_3 (Embedding)      (None, None, 41)          410000    \n",
      "_________________________________________________________________\n",
      "lstm_1 (LSTM)                (None, 8)                 1600      \n",
      "_________________________________________________________________\n",
      "dense_6 (Dense)              (None, 8)                 72        \n",
      "_________________________________________________________________\n",
      "dense_7 (Dense)              (None, 1)                 9         \n",
      "=================================================================\n",
      "Total params: 411,681\n",
      "Trainable params: 411,681\n",
      "Non-trainable params: 0\n",
      "_________________________________________________________________\n"
     ]
    }
   ],
   "source": [
    "# 모델 설계\n",
    "vocab_size = len(word_to_index) # 어휘 사전 크기\n",
    "word_vector_dim = 41 # 차원수\n",
    "\n",
    "# [model-1] LSTM\n",
    "model_lstm = tf.keras.Sequential()\n",
    "model_lstm.add(tf.keras.layers.Embedding(vocab_size, word_vector_dim, input_shape=(None,)))\n",
    "model_lstm.add(tf.keras.layers.LSTM(8)) \n",
    "model_lstm.add(tf.keras.layers.Dense(8, activation='relu'))\n",
    "model_lstm.add(tf.keras.layers.Dense(1, activation='sigmoid'))  # 최종 출력은 긍정/부정을 나타내는 1dim\n",
    "\n",
    "model_lstm.summary()"
   ]
  },
  {
   "cell_type": "code",
   "execution_count": 28,
   "id": "8574ff29",
   "metadata": {},
   "outputs": [
    {
     "name": "stdout",
     "output_type": "stream",
     "text": [
      "Epoch 1/20\n",
      "229/229 [==============================] - 3s 8ms/step - loss: 0.5239 - accuracy: 0.7450 - val_loss: 0.3866 - val_accuracy: 0.8386\n",
      "Epoch 2/20\n",
      "229/229 [==============================] - 1s 6ms/step - loss: 0.3442 - accuracy: 0.8557 - val_loss: 0.3481 - val_accuracy: 0.8508\n",
      "Epoch 3/20\n",
      "229/229 [==============================] - 1s 6ms/step - loss: 0.3139 - accuracy: 0.8693 - val_loss: 0.3437 - val_accuracy: 0.8514\n",
      "Epoch 4/20\n",
      "229/229 [==============================] - 1s 6ms/step - loss: 0.2990 - accuracy: 0.8768 - val_loss: 0.3450 - val_accuracy: 0.8527\n",
      "Epoch 5/20\n",
      "229/229 [==============================] - 1s 6ms/step - loss: 0.2853 - accuracy: 0.8832 - val_loss: 0.3462 - val_accuracy: 0.8536\n",
      "Epoch 6/20\n",
      "229/229 [==============================] - 1s 6ms/step - loss: 0.2740 - accuracy: 0.8877 - val_loss: 0.3481 - val_accuracy: 0.8533\n",
      "Epoch 7/20\n",
      "229/229 [==============================] - 1s 6ms/step - loss: 0.2626 - accuracy: 0.8933 - val_loss: 0.3625 - val_accuracy: 0.8521\n",
      "Epoch 8/20\n",
      "229/229 [==============================] - 1s 6ms/step - loss: 0.2502 - accuracy: 0.8996 - val_loss: 0.3677 - val_accuracy: 0.8519\n",
      "Epoch 9/20\n",
      "229/229 [==============================] - 1s 6ms/step - loss: 0.2383 - accuracy: 0.9045 - val_loss: 0.3715 - val_accuracy: 0.8507\n",
      "Epoch 10/20\n",
      "229/229 [==============================] - 1s 6ms/step - loss: 0.2270 - accuracy: 0.9100 - val_loss: 0.3855 - val_accuracy: 0.8506\n",
      "Epoch 11/20\n",
      "229/229 [==============================] - 1s 6ms/step - loss: 0.2160 - accuracy: 0.9161 - val_loss: 0.4013 - val_accuracy: 0.8471\n",
      "Epoch 12/20\n",
      "229/229 [==============================] - 1s 6ms/step - loss: 0.2025 - accuracy: 0.9222 - val_loss: 0.4105 - val_accuracy: 0.8452\n",
      "Epoch 13/20\n",
      "229/229 [==============================] - 1s 6ms/step - loss: 0.1901 - accuracy: 0.9276 - val_loss: 0.4346 - val_accuracy: 0.8441\n",
      "Epoch 14/20\n",
      "229/229 [==============================] - 1s 6ms/step - loss: 0.1785 - accuracy: 0.9329 - val_loss: 0.4509 - val_accuracy: 0.8433\n",
      "Epoch 15/20\n",
      "229/229 [==============================] - 1s 6ms/step - loss: 0.1681 - accuracy: 0.9373 - val_loss: 0.4766 - val_accuracy: 0.8389\n",
      "Epoch 16/20\n",
      "229/229 [==============================] - 1s 6ms/step - loss: 0.1568 - accuracy: 0.9424 - val_loss: 0.4859 - val_accuracy: 0.8396\n",
      "Epoch 17/20\n",
      "229/229 [==============================] - 1s 6ms/step - loss: 0.1481 - accuracy: 0.9461 - val_loss: 0.5134 - val_accuracy: 0.8385\n",
      "Epoch 18/20\n",
      "229/229 [==============================] - 1s 6ms/step - loss: 0.1380 - accuracy: 0.9505 - val_loss: 0.5430 - val_accuracy: 0.8378\n",
      "Epoch 19/20\n",
      "229/229 [==============================] - 1s 6ms/step - loss: 0.1303 - accuracy: 0.9537 - val_loss: 0.5540 - val_accuracy: 0.8345\n",
      "Epoch 20/20\n",
      "229/229 [==============================] - 1s 6ms/step - loss: 0.1237 - accuracy: 0.9566 - val_loss: 0.5720 - val_accuracy: 0.8343\n"
     ]
    }
   ],
   "source": [
    "# 모델 훈련\n",
    "model_lstm.compile(optimizer='adam', loss='binary_crossentropy', metrics=[\"accuracy\"])\n",
    "\n",
    "epochs = 20\n",
    "history = model_lstm.fit(X_train, y_train, epochs=epochs, batch_size=512, validation_data=(X_valid, y_valid), verbose=1)"
   ]
  },
  {
   "cell_type": "code",
   "execution_count": 46,
   "id": "53ae6441",
   "metadata": {},
   "outputs": [
    {
     "name": "stdout",
     "output_type": "stream",
     "text": [
      "1537/1537 - 3s - loss: 0.5273 - accuracy: 0.8337\n",
      "[0.5272906422615051, 0.8336554169654846]\n"
     ]
    }
   ],
   "source": [
    "# 평가\n",
    "result = model_lstm.evaluate(X_test,  y_test, verbose=2) \n",
    "print(result)"
   ]
  },
  {
   "cell_type": "code",
   "execution_count": 47,
   "id": "8e5caa7b",
   "metadata": {},
   "outputs": [
    {
     "name": "stdout",
     "output_type": "stream",
     "text": [
      "dict_keys(['loss', 'accuracy', 'val_loss', 'val_accuracy'])\n"
     ]
    },
    {
     "data": {
      "image/png": "[encoded data removed]",
      "text/plain": [
       "<Figure size 432x288 with 1 Axes>"
      ]
     },
     "metadata": {
      "needs_background": "light"
     },
     "output_type": "display_data"
    },
    {
     "data": {
      "image/png": "[encoded data removed]",
      "text/plain": [
       "<Figure size 432x288 with 1 Axes>"
      ]
     },
     "metadata": {
      "needs_background": "light"
     },
     "output_type": "display_data"
    },
    {
     "data": {
      "image/png": "[encoded data removed]",
      "text/plain": [
       "<Figure size 432x288 with 1 Axes>"
      ]
     },
     "metadata": {
      "needs_background": "light"
     },
     "output_type": "display_data"
    }
   ],
   "source": [
    "# Loss, Accuracy 그래프 시각화\n",
    "import matplotlib.pyplot as plt\n",
    "\n",
    "history_dict = history.history # accuracy, loss 가져온다.\n",
    "print(history_dict.keys())\n",
    "\n",
    "loss = history_dict[\"loss\"]\n",
    "accuracy = history_dict[\"accuracy\"]\n",
    "val_loss = history_dict[\"val_loss\"]\n",
    "val_accuracy = history_dict[\"val_accuracy\"]\n",
    "\n",
    "# epoch-loss 그래프\n",
    "epochs = range(1, len(accuracy) + 1)\n",
    "plt.plot(epochs, loss, 'bo', label='Training loss')\n",
    "plt.plot(epochs, val_loss, 'b', label='Validation loss')\n",
    "plt.title('Training and validation loss')\n",
    "plt.xlabel('Epochs')\n",
    "plt.ylabel('Loss')\n",
    "plt.legend()\n",
    "\n",
    "plt.show()\n",
    "\n",
    "# epoch-accuracy 그래프\n",
    "plt.clf()\n",
    "\n",
    "plt.plot(epochs, accuracy, 'bo', label='Training acc')\n",
    "plt.plot(epochs, val_accuracy, 'b', label='Validation acc')\n",
    "plt.title('Training and validation accuracy')\n",
    "plt.xlabel('Epochs')\n",
    "plt.ylabel('Accuracy')\n",
    "plt.legend()\n",
    "\n",
    "plt.show()\n",
    "\n",
    "# epoch - acc/loss 그래프\n",
    "\n",
    "plt.clf()\n",
    "\n",
    "plt.plot(epochs, accuracy, 'g', label=' Training acc')\n",
    "plt.plot(epochs, loss, 'r', label='Training loss')\n",
    "plt.title('Training and validation accuracy')\n",
    "plt.xlabel('Epochs')\n",
    "plt.ylabel('acc/loss')\n",
    "plt.legend()\n",
    "\n",
    "plt.show()\n"
   ]
  },
  {
   "cell_type": "code",
   "execution_count": 48,
   "id": "3631a4e2",
   "metadata": {},
   "outputs": [
    {
     "name": "stdout",
     "output_type": "stream",
     "text": [
      "(10000, 41)\n"
     ]
    },
    {
     "data": {
      "text/plain": [
       "[('퀄리티', 0.8651092052459717),\n",
       " ('흥', 0.8621377944946289),\n",
       " ('하하하하하', 0.8593959212303162),\n",
       " ('향기', 0.8260975480079651),\n",
       " ('참신', 0.822695791721344),\n",
       " ('볼', 0.8183740973472595),\n",
       " ('기적', 0.8180095553398132),\n",
       " ('출', 0.8159787654876709),\n",
       " ('즐거운', 0.8128039836883545),\n",
       " ('올인', 0.804060161113739)]"
      ]
     },
     "execution_count": 48,
     "metadata": {},
     "output_type": "execute_result"
    }
   ],
   "source": [
    "embedding_layer = model_lstm.layers[0]\n",
    "weights = embedding_layer.get_weights()[0]\n",
    "print(weights.shape)   \n",
    "\n",
    "# 학습한 Embedding 파라미터를 파일에 써서 저장\n",
    "word2vec_file_path = os.getenv('HOME')+'/aiffel/workspace/ex6_word2vec_lstm.txt'\n",
    "f = open(word2vec_file_path, 'w')\n",
    "f.write('{} {}\\n'.format(vocab_size-4, word_vector_dim)) \n",
    "\n",
    "# 단어 개수(에서 특수문자 4개는 제외)만큼의 워드 벡터를 파일에 기록 \n",
    "vectors = model_lstm.get_weights()[0]\n",
    "for i in range(4,vocab_size):\n",
    "    f.write('{} {}\\n'.format(index_to_word[i], ' '.join(map(str, list(vectors[i, :])))))\n",
    "f.close()\n",
    "\n",
    "word_vectors = Word2VecKeyedVectors.load_word2vec_format(word2vec_file_path, binary=False)\n",
    "word_vectors.similar_by_word(\"우정\")"
   ]
  },
  {
   "cell_type": "code",
   "execution_count": 49,
   "id": "dc08f5ef",
   "metadata": {},
   "outputs": [
    {
     "name": "stdout",
     "output_type": "stream",
     "text": [
      "Model: \"sequential_5\"\n",
      "_________________________________________________________________\n",
      "Layer (type)                 Output Shape              Param #   \n",
      "=================================================================\n",
      "embedding_5 (Embedding)      (None, None, 41)          410000    \n",
      "_________________________________________________________________\n",
      "conv1d_2 (Conv1D)            (None, None, 16)          4608      \n",
      "_________________________________________________________________\n",
      "max_pooling1d_1 (MaxPooling1 (None, None, 16)          0         \n",
      "_________________________________________________________________\n",
      "conv1d_3 (Conv1D)            (None, None, 16)          1808      \n",
      "_________________________________________________________________\n",
      "global_max_pooling1d_2 (Glob (None, 16)                0         \n",
      "_________________________________________________________________\n",
      "dense_10 (Dense)             (None, 8)                 136       \n",
      "_________________________________________________________________\n",
      "dense_11 (Dense)             (None, 1)                 9         \n",
      "=================================================================\n",
      "Total params: 416,561\n",
      "Trainable params: 416,561\n",
      "Non-trainable params: 0\n",
      "_________________________________________________________________\n"
     ]
    }
   ],
   "source": [
    "# [model-2] 1-D CNN\n",
    "\n",
    "model_1dcnn = tf.keras.Sequential()\n",
    "model_1dcnn.add(tf.keras.layers.Embedding(vocab_size, word_vector_dim, input_shape=(None,)))\n",
    "model_1dcnn.add(tf.keras.layers.Conv1D(16, 7, activation='relu'))\n",
    "model_1dcnn.add(tf.keras.layers.MaxPooling1D(5))\n",
    "model_1dcnn.add(tf.keras.layers.Conv1D(16, 7, activation='relu'))\n",
    "model_1dcnn.add(tf.keras.layers.GlobalMaxPooling1D())\n",
    "model_1dcnn.add(tf.keras.layers.Dense(8, activation='relu'))\n",
    "model_1dcnn.add(tf.keras.layers.Dense(1, activation='sigmoid'))\n",
    "\n",
    "model_1dcnn.summary()"
   ]
  },
  {
   "cell_type": "code",
   "execution_count": 50,
   "id": "1f2777d3",
   "metadata": {},
   "outputs": [
    {
     "name": "stdout",
     "output_type": "stream",
     "text": [
      "Epoch 1/20\n",
      "229/229 [==============================] - 2s 6ms/step - loss: 0.4617 - accuracy: 0.7778 - val_loss: 0.3545 - val_accuracy: 0.8435\n",
      "Epoch 2/20\n",
      "229/229 [==============================] - 1s 5ms/step - loss: 0.3144 - accuracy: 0.8662 - val_loss: 0.3370 - val_accuracy: 0.8537\n",
      "Epoch 3/20\n",
      "229/229 [==============================] - 1s 5ms/step - loss: 0.2700 - accuracy: 0.8900 - val_loss: 0.3343 - val_accuracy: 0.8563\n",
      "Epoch 4/20\n",
      "229/229 [==============================] - 1s 5ms/step - loss: 0.2222 - accuracy: 0.9143 - val_loss: 0.3580 - val_accuracy: 0.8520\n",
      "Epoch 5/20\n",
      "229/229 [==============================] - 1s 5ms/step - loss: 0.1709 - accuracy: 0.9374 - val_loss: 0.3917 - val_accuracy: 0.8496\n",
      "Epoch 6/20\n",
      "229/229 [==============================] - 1s 5ms/step - loss: 0.1227 - accuracy: 0.9585 - val_loss: 0.4487 - val_accuracy: 0.8406\n",
      "Epoch 7/20\n",
      "229/229 [==============================] - 1s 5ms/step - loss: 0.0867 - accuracy: 0.9726 - val_loss: 0.5201 - val_accuracy: 0.8399\n",
      "Epoch 8/20\n",
      "229/229 [==============================] - 1s 5ms/step - loss: 0.0639 - accuracy: 0.9808 - val_loss: 0.5785 - val_accuracy: 0.8397\n",
      "Epoch 9/20\n",
      "229/229 [==============================] - 1s 5ms/step - loss: 0.0487 - accuracy: 0.9855 - val_loss: 0.6416 - val_accuracy: 0.8346\n",
      "Epoch 10/20\n",
      "229/229 [==============================] - 1s 5ms/step - loss: 0.0386 - accuracy: 0.9887 - val_loss: 0.7009 - val_accuracy: 0.8346\n",
      "Epoch 11/20\n",
      "229/229 [==============================] - 1s 5ms/step - loss: 0.0316 - accuracy: 0.9907 - val_loss: 0.7772 - val_accuracy: 0.8318\n",
      "Epoch 12/20\n",
      "229/229 [==============================] - 1s 5ms/step - loss: 0.0262 - accuracy: 0.9924 - val_loss: 0.8332 - val_accuracy: 0.8313\n",
      "Epoch 13/20\n",
      "229/229 [==============================] - 1s 5ms/step - loss: 0.0230 - accuracy: 0.9931 - val_loss: 0.8852 - val_accuracy: 0.8323\n",
      "Epoch 14/20\n",
      "229/229 [==============================] - 1s 5ms/step - loss: 0.0202 - accuracy: 0.9939 - val_loss: 0.9334 - val_accuracy: 0.8288\n",
      "Epoch 15/20\n",
      "229/229 [==============================] - 1s 5ms/step - loss: 0.0194 - accuracy: 0.9938 - val_loss: 0.9716 - val_accuracy: 0.8278\n",
      "Epoch 16/20\n",
      "229/229 [==============================] - 1s 5ms/step - loss: 0.0208 - accuracy: 0.9932 - val_loss: 1.0222 - val_accuracy: 0.8290\n",
      "Epoch 17/20\n",
      "229/229 [==============================] - 1s 5ms/step - loss: 0.0294 - accuracy: 0.9896 - val_loss: 1.0118 - val_accuracy: 0.8275\n",
      "Epoch 18/20\n",
      "229/229 [==============================] - 1s 5ms/step - loss: 0.0304 - accuracy: 0.9890 - val_loss: 1.0207 - val_accuracy: 0.8276\n",
      "Epoch 19/20\n",
      "229/229 [==============================] - 1s 5ms/step - loss: 0.0233 - accuracy: 0.9917 - val_loss: 1.0715 - val_accuracy: 0.8273\n",
      "Epoch 20/20\n",
      "229/229 [==============================] - 1s 5ms/step - loss: 0.0162 - accuracy: 0.9947 - val_loss: 1.0971 - val_accuracy: 0.8260\n"
     ]
    }
   ],
   "source": [
    "# 모델 훈련\n",
    "model_1dcnn.compile(optimizer='adam', loss='binary_crossentropy', metrics=[\"accuracy\"])\n",
    "\n",
    "epochs = 20\n",
    "history = model_1dcnn.fit(X_train, y_train, epochs=epochs, batch_size=512, validation_data=(X_valid, y_valid), verbose=1)"
   ]
  },
  {
   "cell_type": "code",
   "execution_count": 51,
   "id": "c754f259",
   "metadata": {},
   "outputs": [
    {
     "name": "stdout",
     "output_type": "stream",
     "text": [
      "1537/1537 - 3s - loss: 1.1437 - accuracy: 0.8194\n",
      "[1.1437321901321411, 0.8194153308868408]\n"
     ]
    }
   ],
   "source": [
    "# 평가\n",
    "result = model_1dcnn.evaluate(X_test,  y_test, verbose=2) \n",
    "print(result)"
   ]
  },
  {
   "cell_type": "code",
   "execution_count": 14,
   "id": "86ddcdd4",
   "metadata": {},
   "outputs": [
    {
     "name": "stdout",
     "output_type": "stream",
     "text": [
      "dict_keys(['loss', 'accuracy', 'val_loss', 'val_accuracy'])\n"
     ]
    },
    {
     "data": {
      "image/png": "[encoded data removed]",
      "text/plain": [
       "<Figure size 432x288 with 1 Axes>"
      ]
     },
     "metadata": {
      "needs_background": "light"
     },
     "output_type": "display_data"
    },
    {
     "data": {
      "image/png": "[encoded data removed]",
      "text/plain": [
       "<Figure size 432x288 with 1 Axes>"
      ]
     },
     "metadata": {
      "needs_background": "light"
     },
     "output_type": "display_data"
    },
    {
     "data": {
      "image/png": "[encoded data removed]",
      "text/plain": [
       "<Figure size 432x288 with 1 Axes>"
      ]
     },
     "metadata": {
      "needs_background": "light"
     },
     "output_type": "display_data"
    }
   ],
   "source": [
    "# Loss, Accuracy 그래프 시각화\n",
    "history_dict = history.history # accuracy, loss 가져온다.\n",
    "print(history_dict.keys())\n",
    "\n",
    "loss = history_dict[\"loss\"]\n",
    "accuracy = history_dict[\"accuracy\"]\n",
    "val_loss = history_dict[\"val_loss\"]\n",
    "val_accuracy = history_dict[\"val_accuracy\"]\n",
    "\n",
    "# epoch-loss 그래프\n",
    "epochs = range(1, len(accuracy) + 1)\n",
    "plt.plot(epochs, loss, 'bo', label='Training loss')\n",
    "plt.plot(epochs, val_loss, 'b', label='Validation loss')\n",
    "plt.title('Training and validation loss')\n",
    "plt.xlabel('Epochs')\n",
    "plt.ylabel('Loss')\n",
    "plt.legend()\n",
    "\n",
    "plt.show()\n",
    "\n",
    "# epoch-accuracy 그래프\n",
    "plt.clf()\n",
    "\n",
    "plt.plot(epochs, accuracy, 'bo', label='Training acc')\n",
    "plt.plot(epochs, val_accuracy, 'b', label='Validation acc')\n",
    "plt.title('Training and validation accuracy')\n",
    "plt.xlabel('Epochs')\n",
    "plt.ylabel('Accuracy')\n",
    "plt.legend()\n",
    "\n",
    "plt.show()\n",
    "\n",
    "# epoch - acc/loss 그래프\n",
    "\n",
    "plt.clf()\n",
    "\n",
    "plt.plot(epochs, accuracy, 'g', label=' Training acc')\n",
    "plt.plot(epochs, loss, 'r', label='Training loss')\n",
    "plt.title('Training and validation accuracy')\n",
    "plt.xlabel('Epochs')\n",
    "plt.ylabel('acc/loss')\n",
    "plt.legend()\n",
    "\n",
    "plt.show()\n"
   ]
  },
  {
   "cell_type": "code",
   "execution_count": 52,
   "id": "94b9adf2",
   "metadata": {},
   "outputs": [
    {
     "name": "stdout",
     "output_type": "stream",
     "text": [
      "(10000, 41)\n"
     ]
    },
    {
     "data": {
      "text/plain": [
       "[('갖추', 0.6386409997940063),\n",
       " ('브', 0.6321302652359009),\n",
       " ('김남길', 0.6264898777008057),\n",
       " ('마다', 0.6162876486778259),\n",
       " ('다물', 0.5990211367607117),\n",
       " ('명장면', 0.5922313332557678),\n",
       " ('묘한', 0.5915171504020691),\n",
       " ('국내', 0.5678679347038269),\n",
       " ('발생', 0.5632069110870361),\n",
       " ('포스트', 0.5559356808662415)]"
      ]
     },
     "execution_count": 52,
     "metadata": {},
     "output_type": "execute_result"
    }
   ],
   "source": [
    "embedding_layer = model_1dcnn.layers[0]\n",
    "weights = embedding_layer.get_weights()[0]\n",
    "print(weights.shape)   \n",
    "\n",
    "# 학습한 Embedding 파라미터를 파일에 써서 저장\n",
    "word2vec_file_path = os.getenv('HOME')+'/aiffel/workspace/ex6_word2vec_cnn.txt'\n",
    "f = open(word2vec_file_path, 'w')\n",
    "f.write('{} {}\\n'.format(vocab_size-4, word_vector_dim)) \n",
    "\n",
    "# 단어 개수(에서 특수문자 4개는 제외)만큼의 워드 벡터를 파일에 기록 \n",
    "vectors = model_1dcnn.get_weights()[0]\n",
    "for i in range(4,vocab_size):\n",
    "    f.write('{} {}\\n'.format(index_to_word[i], ' '.join(map(str, list(vectors[i, :])))))\n",
    "f.close()\n",
    "\n",
    "word_vectors = Word2VecKeyedVectors.load_word2vec_format(word2vec_file_path, binary=False)\n",
    "word_vectors.similar_by_word(\"우정\")"
   ]
  },
  {
   "cell_type": "code",
   "execution_count": 53,
   "id": "f899e88b",
   "metadata": {},
   "outputs": [
    {
     "name": "stdout",
     "output_type": "stream",
     "text": [
      "Model: \"sequential_6\"\n",
      "_________________________________________________________________\n",
      "Layer (type)                 Output Shape              Param #   \n",
      "=================================================================\n",
      "embedding_6 (Embedding)      (None, None, 41)          410000    \n",
      "_________________________________________________________________\n",
      "global_max_pooling1d_3 (Glob (None, 41)                0         \n",
      "_________________________________________________________________\n",
      "dense_12 (Dense)             (None, 8)                 336       \n",
      "_________________________________________________________________\n",
      "dense_13 (Dense)             (None, 1)                 9         \n",
      "=================================================================\n",
      "Total params: 410,345\n",
      "Trainable params: 410,345\n",
      "Non-trainable params: 0\n",
      "_________________________________________________________________\n"
     ]
    }
   ],
   "source": [
    "# [model-3] GlobalMaxPooling1D만 사용\n",
    "model_mp = tf.keras.Sequential()\n",
    "model_mp.add(tf.keras.layers.Embedding(vocab_size, word_vector_dim, input_shape=(None,)))\n",
    "model_mp.add(tf.keras.layers.GlobalMaxPooling1D())\n",
    "model_mp.add(tf.keras.layers.Dense(8, activation='relu'))\n",
    "model_mp.add(tf.keras.layers.Dense(1, activation='sigmoid'))\n",
    "\n",
    "model_mp.summary()"
   ]
  },
  {
   "cell_type": "code",
   "execution_count": 54,
   "id": "32f57a64",
   "metadata": {},
   "outputs": [
    {
     "name": "stdout",
     "output_type": "stream",
     "text": [
      "Epoch 1/20\n",
      "229/229 [==============================] - 1s 4ms/step - loss: 0.5269 - accuracy: 0.7799 - val_loss: 0.3808 - val_accuracy: 0.8352\n",
      "Epoch 2/20\n",
      "229/229 [==============================] - 1s 4ms/step - loss: 0.3416 - accuracy: 0.8540 - val_loss: 0.3484 - val_accuracy: 0.8488\n",
      "Epoch 3/20\n",
      "229/229 [==============================] - 1s 4ms/step - loss: 0.2977 - accuracy: 0.8758 - val_loss: 0.3442 - val_accuracy: 0.8508\n",
      "Epoch 4/20\n",
      "229/229 [==============================] - 1s 4ms/step - loss: 0.2677 - accuracy: 0.8911 - val_loss: 0.3495 - val_accuracy: 0.8507\n",
      "Epoch 5/20\n",
      "229/229 [==============================] - 1s 4ms/step - loss: 0.2421 - accuracy: 0.9044 - val_loss: 0.3597 - val_accuracy: 0.8478\n",
      "Epoch 6/20\n",
      "229/229 [==============================] - 1s 4ms/step - loss: 0.2189 - accuracy: 0.9145 - val_loss: 0.3736 - val_accuracy: 0.8452\n",
      "Epoch 7/20\n",
      "229/229 [==============================] - 1s 4ms/step - loss: 0.1976 - accuracy: 0.9249 - val_loss: 0.3914 - val_accuracy: 0.8428\n",
      "Epoch 8/20\n",
      "229/229 [==============================] - 1s 4ms/step - loss: 0.1772 - accuracy: 0.9348 - val_loss: 0.4103 - val_accuracy: 0.8414\n",
      "Epoch 9/20\n",
      "229/229 [==============================] - 1s 4ms/step - loss: 0.1583 - accuracy: 0.9430 - val_loss: 0.4335 - val_accuracy: 0.8416\n",
      "Epoch 10/20\n",
      "229/229 [==============================] - 1s 4ms/step - loss: 0.1407 - accuracy: 0.9503 - val_loss: 0.4589 - val_accuracy: 0.8385\n",
      "Epoch 11/20\n",
      "229/229 [==============================] - 1s 4ms/step - loss: 0.1251 - accuracy: 0.9574 - val_loss: 0.4881 - val_accuracy: 0.8352\n",
      "Epoch 12/20\n",
      "229/229 [==============================] - 1s 4ms/step - loss: 0.1107 - accuracy: 0.9634 - val_loss: 0.5130 - val_accuracy: 0.8356\n",
      "Epoch 13/20\n",
      "229/229 [==============================] - 1s 4ms/step - loss: 0.0982 - accuracy: 0.9693 - val_loss: 0.5432 - val_accuracy: 0.8309\n",
      "Epoch 14/20\n",
      "229/229 [==============================] - 1s 4ms/step - loss: 0.0870 - accuracy: 0.9734 - val_loss: 0.5735 - val_accuracy: 0.8300\n",
      "Epoch 15/20\n",
      "229/229 [==============================] - 1s 4ms/step - loss: 0.0773 - accuracy: 0.9765 - val_loss: 0.6051 - val_accuracy: 0.8289\n",
      "Epoch 16/20\n",
      "229/229 [==============================] - 1s 4ms/step - loss: 0.0684 - accuracy: 0.9798 - val_loss: 0.6393 - val_accuracy: 0.8265\n",
      "Epoch 17/20\n",
      "229/229 [==============================] - 1s 4ms/step - loss: 0.0611 - accuracy: 0.9824 - val_loss: 0.6706 - val_accuracy: 0.8261\n",
      "Epoch 18/20\n",
      "229/229 [==============================] - 1s 4ms/step - loss: 0.0546 - accuracy: 0.9846 - val_loss: 0.7022 - val_accuracy: 0.8218\n",
      "Epoch 19/20\n",
      "229/229 [==============================] - 1s 4ms/step - loss: 0.0489 - accuracy: 0.9863 - val_loss: 0.7371 - val_accuracy: 0.8212\n",
      "Epoch 20/20\n",
      "229/229 [==============================] - 1s 4ms/step - loss: 0.0438 - accuracy: 0.9881 - val_loss: 0.7681 - val_accuracy: 0.8207\n"
     ]
    }
   ],
   "source": [
    "# 모델 훈련\n",
    "model_mp.compile(optimizer='adam', loss='binary_crossentropy', metrics=[\"accuracy\"])\n",
    "\n",
    "epochs = 20\n",
    "history = model_mp.fit(X_train, y_train, epochs=epochs, batch_size=512, validation_data=(X_valid, y_valid), verbose=1)"
   ]
  },
  {
   "cell_type": "code",
   "execution_count": 55,
   "id": "9a260414",
   "metadata": {},
   "outputs": [
    {
     "name": "stdout",
     "output_type": "stream",
     "text": [
      "1537/1537 - 2s - loss: 0.7809 - accuracy: 0.8173\n",
      "[0.7809270620346069, 0.8172590136528015]\n"
     ]
    }
   ],
   "source": [
    "# 평가\n",
    "result_mp = model_mp.evaluate(X_test,  y_test, verbose=2) \n",
    "print(result_mp)"
   ]
  },
  {
   "cell_type": "code",
   "execution_count": 56,
   "id": "e0cab26f",
   "metadata": {},
   "outputs": [
    {
     "name": "stdout",
     "output_type": "stream",
     "text": [
      "dict_keys(['loss', 'accuracy', 'val_loss', 'val_accuracy'])\n"
     ]
    },
    {
     "data": {
      "image/png": "[encoded data removed]",
      "text/plain": [
       "<Figure size 432x288 with 1 Axes>"
      ]
     },
     "metadata": {
      "needs_background": "light"
     },
     "output_type": "display_data"
    },
    {
     "data": {
      "image/png": "[encoded data removed]",
      "text/plain": [
       "<Figure size 432x288 with 1 Axes>"
      ]
     },
     "metadata": {
      "needs_background": "light"
     },
     "output_type": "display_data"
    },
    {
     "data": {
      "image/png": "[encoded data removed]",
      "text/plain": [
       "<Figure size 432x288 with 1 Axes>"
      ]
     },
     "metadata": {
      "needs_background": "light"
     },
     "output_type": "display_data"
    }
   ],
   "source": [
    "# Loss, Accuracy 그래프 시각화\n",
    "history_dict = history.history # accuracy, loss 가져온다.\n",
    "print(history_dict.keys())\n",
    "\n",
    "loss = history_dict[\"loss\"]\n",
    "accuracy = history_dict[\"accuracy\"]\n",
    "val_loss = history_dict[\"val_loss\"]\n",
    "val_accuracy = history_dict[\"val_accuracy\"]\n",
    "\n",
    "# epoch-loss 그래프\n",
    "epochs = range(1, len(accuracy) + 1)\n",
    "plt.plot(epochs, loss, 'bo', label='Training loss')\n",
    "plt.plot(epochs, val_loss, 'b', label='Validation loss')\n",
    "plt.title('Training and validation loss')\n",
    "plt.xlabel('Epochs')\n",
    "plt.ylabel('Loss')\n",
    "plt.legend()\n",
    "\n",
    "plt.show()\n",
    "\n",
    "# epoch-accuracy 그래프\n",
    "plt.clf()\n",
    "\n",
    "plt.plot(epochs, accuracy, 'bo', label='Training acc')\n",
    "plt.plot(epochs, val_accuracy, 'b', label='Validation acc')\n",
    "plt.title('Training and validation accuracy')\n",
    "plt.xlabel('Epochs')\n",
    "plt.ylabel('Accuracy')\n",
    "plt.legend()\n",
    "\n",
    "plt.show()\n",
    "\n",
    "# epoch - acc/loss 그래프\n",
    "\n",
    "plt.clf()\n",
    "\n",
    "plt.plot(epochs, accuracy, 'g', label=' Training acc')\n",
    "plt.plot(epochs, loss, 'r', label='Training loss')\n",
    "plt.title('Training and validation accuracy')\n",
    "plt.xlabel('Epochs')\n",
    "plt.ylabel('acc/loss')\n",
    "plt.legend()\n",
    "\n",
    "plt.show()\n"
   ]
  },
  {
   "cell_type": "code",
   "execution_count": 58,
   "id": "f39d5a7d",
   "metadata": {},
   "outputs": [
    {
     "name": "stdout",
     "output_type": "stream",
     "text": [
      "(10000, 41)\n"
     ]
    },
    {
     "data": {
      "text/plain": [
       "[('지성', 0.6544758081436157),\n",
       " ('제레미', 0.6258237361907959),\n",
       " ('릴리', 0.5919701457023621),\n",
       " ('맴돈', 0.5900551676750183),\n",
       " ('우린', 0.5892146825790405),\n",
       " ('블리', 0.5860978364944458),\n",
       " ('드러낸', 0.5799271464347839),\n",
       " ('테러리스트', 0.5692098140716553),\n",
       " ('부성애', 0.5590226650238037),\n",
       " ('본질', 0.55584317445755)]"
      ]
     },
     "execution_count": 58,
     "metadata": {},
     "output_type": "execute_result"
    }
   ],
   "source": [
    "embedding_layer = model_mp.layers[0]\n",
    "weights = embedding_layer.get_weights()[0]\n",
    "print(weights.shape)   \n",
    "\n",
    "# 학습한 Embedding 파라미터를 파일에 써서 저장\n",
    "word2vec_file_path = os.getenv('HOME')+'/aiffel/workspace/ex6_word2vec.txt'\n",
    "f = open(word2vec_file_path, 'w')\n",
    "f.write('{} {}\\n'.format(vocab_size-4, word_vector_dim)) \n",
    "\n",
    "# 단어 개수(에서 특수문자 4개는 제외)만큼의 워드 벡터를 파일에 기록 \n",
    "vectors = model_mp.get_weights()[0]\n",
    "for i in range(4,vocab_size):\n",
    "    f.write('{} {}\\n'.format(index_to_word[i], ' '.join(map(str, list(vectors[i, :])))))\n",
    "f.close()\n",
    "\n",
    "word_vectors = Word2VecKeyedVectors.load_word2vec_format(word2vec_file_path, binary=False)\n",
    "word_vectors.similar_by_word(\"우정\")"
   ]
  },
  {
   "cell_type": "markdown",
   "id": "6b9da0c2",
   "metadata": {},
   "source": [
    "회고\n",
    "헷갈리는 부분이 있어 다시 공부가 필요할것 같고 전처리가 중요할것 같다."
   ]
  }
 ],
 "metadata": {
  "kernelspec": {
   "display_name": "Python 3 (ipykernel)",
   "language": "python",
   "name": "python3"
  },
  "language_info": {
   "codemirror_mode": {
    "name": "ipython",
    "version": 3
   },
   "file_extension": ".py",
   "mimetype": "text/x-python",
   "name": "python",
   "nbconvert_exporter": "python",
   "pygments_lexer": "ipython3",
   "version": "3.9.7"
  }
 },
 "nbformat": 4,
 "nbformat_minor": 5
}
