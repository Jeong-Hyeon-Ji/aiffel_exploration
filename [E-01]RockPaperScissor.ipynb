{
 "cells": [
  {
   "cell_type": "code",
   "execution_count": 2,
   "id": "0f3af0a3",
   "metadata": {},
   "outputs": [],
   "source": [
    "import tensorflow as tf\n",
    "from tensorflow import keras\n",
    "import glob\n",
    "\n",
    "import numpy as np\n",
    "import matplotlib.pyplot as plt\n",
    "import os\n",
    "\n",
    "from PIL import Image"
   ]
  },
  {
   "cell_type": "code",
   "execution_count": 214,
   "id": "5797a7e6",
   "metadata": {
    "scrolled": true
   },
   "outputs": [
    {
     "name": "stdout",
     "output_type": "stream",
     "text": [
      "1000  images resized.\n",
      "1001  images resized.\n",
      "1000  images resized.\n",
      "200  images resized.\n",
      "200  images resized.\n",
      "200  images resized.\n"
     ]
    }
   ],
   "source": [
    "def resize_images(img_path):\n",
    "\timages=glob.glob(img_path + \"/*.jpg\")  \n",
    "    \n",
    "# \tprint(len(images), \" images to be resized.\")\n",
    "\n",
    "    # 파일마다 모두 56X56 사이즈로 바꾸어 저장합니다.\n",
    "\ttarget_size=(56,56)\n",
    "\tfor img in images:\n",
    "\t\told_img=Image.open(img)\n",
    "\t\tnew_img=old_img.resize(target_size,Image.ANTIALIAS)\n",
    "\t\tnew_img.save(img, \"JPEG\")\n",
    "    \n",
    "\tprint(len(images), \" images resized.\")\n",
    "\t\n",
    "# 트래인 파일 변경\n",
    "# 가위 이미지가 저장된 디렉토리 아래의 모든 jpg 파일을 읽어들여서\n",
    "image_dir_path = os.getenv(\"HOME\") + \"/aiffel/EX/EX1/train_data/scissor\"\n",
    "resize_images(image_dir_path)\n",
    "\n",
    "# 바위 이미지가 저장된 디렉토리 아래의 모든 jpg 파일을 읽어들여서\n",
    "img_dir_rock = os.getenv(\"HOME\")+\"/aiffel/EX/EX1/train_data/rock\"\n",
    "resize_images(img_dir_rock)\n",
    "\n",
    "# 보 이미지가 저장된 디렉토리 아래의 모든 jpg 파일을 읽어들여서\n",
    "img_dir_paper = os.getenv(\"HOME\")+\"/aiffel/EX/EX1/train_data/paper\"\n",
    "resize_images(img_dir_paper)\n",
    "\n",
    "# 테스트 사이즈 파일 변경\n",
    "img_dir_paper = os.getenv(\"HOME\")+\"/aiffel/EX/EX1/test_data/scissor\"\n",
    "resize_images(img_dir_paper)\n",
    "img_dir_paper = os.getenv(\"HOME\")+\"/aiffel/EX/EX1/test_data/rock\"\n",
    "resize_images(img_dir_paper)\n",
    "img_dir_paper = os.getenv(\"HOME\")+\"/aiffel/EX/EX1/test_data/paper\"\n",
    "resize_images(img_dir_paper)"
   ]
  },
  {
   "cell_type": "code",
   "execution_count": 215,
   "id": "2568f988",
   "metadata": {},
   "outputs": [
    {
     "name": "stdout",
     "output_type": "stream",
     "text": [
      "학습데이터(x_train)의 이미지 개수는 3001 입니다.\n",
      "x_train shape: (3001, 56, 56, 3)\n",
      "y_train shape: (3001,)\n"
     ]
    }
   ],
   "source": [
    "def load_data(img_path, number_of_data=3001):  # 가위바위보 이미지 개수 총합에 주의하세요.\n",
    "    # 가위 : 0, 바위 : 1, 보 : 2\n",
    "    img_size=56\n",
    "    color=3\n",
    "    #이미지 데이터와 라벨(가위 : 0, 바위 : 1, 보 : 2) 데이터를 담을 행렬(matrix) 영역을 생성합니다.\n",
    "    imgs=np.zeros(number_of_data*img_size*img_size*color,dtype=np.int32).reshape(number_of_data,img_size,img_size,color)\n",
    "    labels=np.zeros(number_of_data,dtype=np.int32)\n",
    "\n",
    "    idx=0\n",
    "    for file in glob.iglob(img_path+'/scissor/*.jpg'):\n",
    "        img = np.array(Image.open(file),dtype=np.int32)\n",
    "        imgs[idx,:,:,:]=img    # 데이터 영역에 이미지 행렬을 복사\n",
    "        labels[idx]=0   # 가위 : 0\n",
    "        idx=idx+1\n",
    "\n",
    "    for file in glob.iglob(img_path+'/rock/*.jpg'):\n",
    "        img = np.array(Image.open(file),dtype=np.int32)\n",
    "        imgs[idx,:,:,:]=img    # 데이터 영역에 이미지 행렬을 복사\n",
    "        labels[idx]=1   # 바위 : 1\n",
    "        idx=idx+1  \n",
    "    \n",
    "    for file in glob.iglob(img_path+'/paper/*.jpg'):\n",
    "        img = np.array(Image.open(file),dtype=np.int32)\n",
    "        imgs[idx,:,:,:]=img    # 데이터 영역에 이미지 행렬을 복사\n",
    "        labels[idx]=2   # 보 : 2\n",
    "        idx=idx+1\n",
    "        \n",
    "    print(\"학습데이터(x_train)의 이미지 개수는\", idx,\"입니다.\")\n",
    "    return imgs, labels\n",
    "\n",
    "image_dir_path = os.getenv(\"HOME\") + \"/aiffel/EX/EX1/train_data/\"\n",
    "(x_train, y_train)=load_data(image_dir_path)\n",
    "x_train_norm = x_train/255.0   # 입력은 0~1 사이의 값으로 정규화\n",
    "\n",
    "print(\"x_train shape: {}\".format(x_train.shape))\n",
    "print(\"y_train shape: {}\".format(y_train.shape))"
   ]
  },
  {
   "cell_type": "code",
   "execution_count": 216,
   "id": "96de2ca5",
   "metadata": {
    "scrolled": true
   },
   "outputs": [
    {
     "name": "stdout",
     "output_type": "stream",
     "text": [
      "학습데이터(x_train)의 이미지 개수는 600 입니다.\n",
      "x_test shape: (600, 56, 56, 3)\n",
      "y_test shape: (600,)\n"
     ]
    }
   ],
   "source": [
    "# x_test, y_test를 만드는 방법은 x_train, y_train을 만드는 방법과 아주 유사합니다.\n",
    "def load_test_data(img_path, number_of_data=600):\n",
    "    # 가위 : 0, 바위 : 1, 보 : 2\n",
    "    img_size=56\n",
    "    color=3\n",
    "    #이미지 데이터와 라벨(가위 : 0, 바위 : 1, 보 : 2) 데이터를 담을 행렬(matrix) 영역을 생성합니다.\n",
    "    imgs=np.zeros(number_of_data*img_size*img_size*color,dtype=np.int32).reshape(number_of_data,img_size,img_size,color)\n",
    "    labels=np.zeros(number_of_data,dtype=np.int32)\n",
    "\n",
    "    idx=0\n",
    "    for file in glob.iglob(img_path+'/scissor/*.jpg'):\n",
    "        img = np.array(Image.open(file),dtype=np.int32)\n",
    "        imgs[idx,:,:,:]=img    # 데이터 영역에 이미지 행렬을 복사\n",
    "        labels[idx]=0   # 가위 : 0\n",
    "        idx=idx+1\n",
    "\n",
    "    for file in glob.iglob(img_path+'/rock/*.jpg'):\n",
    "        img = np.array(Image.open(file),dtype=np.int32)\n",
    "        imgs[idx,:,:,:]=img    # 데이터 영역에 이미지 행렬을 복사\n",
    "        labels[idx]=1   # 바위 : 1\n",
    "        idx=idx+1  \n",
    "    \n",
    "    for file in glob.iglob(img_path+'/paper/*.jpg'):\n",
    "        img = np.array(Image.open(file),dtype=np.int32)\n",
    "        imgs[idx,:,:,:]=img    # 데이터 영역에 이미지 행렬을 복사\n",
    "        labels[idx]=2   # 보 : 2\n",
    "        idx=idx+1\n",
    "        \n",
    "    print(\"학습데이터(x_train)의 이미지 개수는\", idx,\"입니다.\")\n",
    "    return imgs, labels\n",
    "\n",
    "\n",
    "test_path = os.getenv(\"HOME\")+\"/aiffel/EX/EX1/test_data/\"\n",
    "(x_test, y_test)=load_test_data(test_path)\n",
    "x_test_norm = x_test/255.0\n",
    "\n",
    "print(\"x_test shape: {}\".format(x_test.shape))\n",
    "print(\"y_test shape: {}\".format(y_test.shape))"
   ]
  },
  {
   "cell_type": "code",
   "execution_count": 217,
   "id": "81e43b51",
   "metadata": {},
   "outputs": [
    {
     "name": "stdout",
     "output_type": "stream",
     "text": [
      "Model: \"sequential_53\"\n",
      "_________________________________________________________________\n",
      "Layer (type)                 Output Shape              Param #   \n",
      "=================================================================\n",
      "average_pooling2d_35 (Averag (None, 17, 17, 3)         0         \n",
      "_________________________________________________________________\n",
      "conv2d_114 (Conv2D)          (None, 15, 15, 128)       3584      \n",
      "_________________________________________________________________\n",
      "max_pooling2d_106 (MaxPoolin (None, 7, 7, 128)         0         \n",
      "_________________________________________________________________\n",
      "conv2d_115 (Conv2D)          (None, 5, 5, 128)         147584    \n",
      "_________________________________________________________________\n",
      "max_pooling2d_107 (MaxPoolin (None, 2, 2, 128)         0         \n",
      "_________________________________________________________________\n",
      "flatten_49 (Flatten)         (None, 512)               0         \n",
      "_________________________________________________________________\n",
      "dense_103 (Dense)            (None, 64)                32832     \n",
      "_________________________________________________________________\n",
      "dense_104 (Dense)            (None, 3)                 195       \n",
      "=================================================================\n",
      "Total params: 184,195\n",
      "Trainable params: 184,195\n",
      "Non-trainable params: 0\n",
      "_________________________________________________________________\n"
     ]
    }
   ],
   "source": [
    "# model을 직접 만들어 보세요.\n",
    "# Hint! model의 입력/출력부에 특히 유의해 주세요. 가위바위보 데이터셋은 MNIST 데이터셋과 어떤 점이 달라졌나요?\n",
    "n_channel_1=128\n",
    "n_channel_2=128\n",
    "n_dense=64\n",
    "\n",
    "model=keras.models.Sequential()\n",
    "model.add(keras.layers.AveragePooling2D(6, (3,3), input_shape=(56,56,3)))\n",
    "model.add(keras.layers.Conv2D(n_channel_1, (3,3), activation='relu', input_shape=(56,56,3)))\n",
    "model.add(keras.layers.MaxPool2D(2,2))\n",
    "model.add(keras.layers.Conv2D(n_channel_2, (3,3), activation='relu'))\n",
    "model.add(keras.layers.MaxPooling2D((2,2)))\n",
    "model.add(keras.layers.Flatten())\n",
    "model.add(keras.layers.Dense(n_dense, activation='relu'))\n",
    "model.add(keras.layers.Dense(3, activation='softmax'))\n",
    "\n",
    "\n",
    "model.summary()"
   ]
  },
  {
   "cell_type": "code",
   "execution_count": 218,
   "id": "71f4694b",
   "metadata": {},
   "outputs": [
    {
     "name": "stdout",
     "output_type": "stream",
     "text": [
      "Epoch 1/20\n",
      "94/94 [==============================] - 1s 3ms/step - loss: 1.0945 - accuracy: 0.3729\n",
      "Epoch 2/20\n",
      "94/94 [==============================] - 0s 3ms/step - loss: 1.0363 - accuracy: 0.4482\n",
      "Epoch 3/20\n",
      "94/94 [==============================] - 0s 3ms/step - loss: 0.9156 - accuracy: 0.5428\n",
      "Epoch 4/20\n",
      "94/94 [==============================] - 0s 3ms/step - loss: 0.8097 - accuracy: 0.6275\n",
      "Epoch 5/20\n",
      "94/94 [==============================] - 0s 3ms/step - loss: 0.7077 - accuracy: 0.7051\n",
      "Epoch 6/20\n",
      "94/94 [==============================] - 0s 3ms/step - loss: 0.6191 - accuracy: 0.7468\n",
      "Epoch 7/20\n",
      "94/94 [==============================] - 0s 3ms/step - loss: 0.5322 - accuracy: 0.7884\n",
      "Epoch 8/20\n",
      "94/94 [==============================] - 0s 3ms/step - loss: 0.4811 - accuracy: 0.8174\n",
      "Epoch 9/20\n",
      "94/94 [==============================] - 0s 3ms/step - loss: 0.4216 - accuracy: 0.8354\n",
      "Epoch 10/20\n",
      "94/94 [==============================] - 0s 3ms/step - loss: 0.3807 - accuracy: 0.8567\n",
      "Epoch 11/20\n",
      "94/94 [==============================] - 0s 3ms/step - loss: 0.3353 - accuracy: 0.8757\n",
      "Epoch 12/20\n",
      "94/94 [==============================] - 0s 3ms/step - loss: 0.3125 - accuracy: 0.8860\n",
      "Epoch 13/20\n",
      "94/94 [==============================] - 0s 3ms/step - loss: 0.2978 - accuracy: 0.8927\n",
      "Epoch 14/20\n",
      "94/94 [==============================] - 0s 3ms/step - loss: 0.2603 - accuracy: 0.9094\n",
      "Epoch 15/20\n",
      "94/94 [==============================] - 0s 3ms/step - loss: 0.2560 - accuracy: 0.9060\n",
      "Epoch 16/20\n",
      "94/94 [==============================] - 0s 3ms/step - loss: 0.2160 - accuracy: 0.9237\n",
      "Epoch 17/20\n",
      "94/94 [==============================] - 0s 3ms/step - loss: 0.2052 - accuracy: 0.9300\n",
      "Epoch 18/20\n",
      "94/94 [==============================] - 0s 3ms/step - loss: 0.1950 - accuracy: 0.9290\n",
      "Epoch 19/20\n",
      "94/94 [==============================] - 0s 3ms/step - loss: 0.1841 - accuracy: 0.9320\n",
      "Epoch 20/20\n",
      "94/94 [==============================] - 0s 3ms/step - loss: 0.1730 - accuracy: 0.9397\n"
     ]
    },
    {
     "data": {
      "text/plain": [
       "<keras.callbacks.History at 0x7f7c4e2d3f40>"
      ]
     },
     "execution_count": 218,
     "metadata": {},
     "output_type": "execute_result"
    }
   ],
   "source": [
    "# model을 학습시키는 코드를 직접 작성해 보세요.\n",
    "# Hint! model.compile()과 model.fit()을 사용해 봅시다.\n",
    "\n",
    "model.compile(optimizer='adam',\n",
    "             loss='sparse_categorical_crossentropy',\n",
    "             metrics=['accuracy'])\n",
    "\n",
    "model.fit(x_train_norm, y_train, epochs=20) #, batch_size=10"
   ]
  },
  {
   "cell_type": "code",
   "execution_count": 219,
   "id": "b2ea32e4",
   "metadata": {},
   "outputs": [
    {
     "name": "stdout",
     "output_type": "stream",
     "text": [
      "19/19 - 0s - loss: 5.8070 - accuracy: 0.4717\n",
      "test_loss: 5.807046413421631 \n",
      "test_accuracy: 0.4716666638851166\n"
     ]
    }
   ],
   "source": [
    "# model을 학습시키는 코드를 직접 작성해 보세요.\n",
    "# Hint! model.evaluate()을 사용해 봅시다.\n",
    "\n",
    "test_loss, test_accuracy = model.evaluate(x_test_norm,y_test,verbose=2)\n",
    "\n",
    "print(\"test_loss: {} \".format(test_loss))\n",
    "print(\"test_accuracy: {}\".format(test_accuracy))"
   ]
  },
  {
   "cell_type": "code",
   "execution_count": 124,
   "id": "1f760aae",
   "metadata": {},
   "outputs": [],
   "source": [
    "# 지금은 보고 아 그렇구나 하는 상태인것 같습니다. \n",
    "# 용어나 accuracy 조절이 잘 안되는 부분, 문서를 봐도 영어에 내용도 많다보니 어려웠습니다. \n",
    "# loss가 높고(x00.00) accuracy가 0.0X대가 나와서 중간에 퍼실님께 놓친 부분 피드백 받아서 막힌 부분을 알 수 있어서 다행이었습니다. \n",
    "# 자신의 코드만 보고있다보면 보일 부분도 안 보일 때가 있는데, 이럴땐 다른 분이 봐주는 것도 좋은것 같습니다.\n",
    "# 데이터 추가하고, 수치들 변경, 모델 변경을 했지만 잘 안됐습니다.\n",
    "# 데이터를 더 명확한 것으로 사용을 해야할지 생각되고, 모델에 대한 이해가 부족합니다.\n",
    "# 앞으로도 계속 이런 과정이 있을텐데 겁먹지 말고 집중해서 해야겠습니다.\n"
   ]
  },
  {
   "cell_type": "code",
   "execution_count": null,
   "id": "0b34d40f",
   "metadata": {},
   "outputs": [],
   "source": []
  }
 ],
 "metadata": {
  "kernelspec": {
   "display_name": "Python 3 (ipykernel)",
   "language": "python",
   "name": "python3"
  },
  "language_info": {
   "codemirror_mode": {
    "name": "ipython",
    "version": 3
   },
   "file_extension": ".py",
   "mimetype": "text/x-python",
   "name": "python",
   "nbconvert_exporter": "python",
   "pygments_lexer": "ipython3",
   "version": "3.9.7"
  }
 },
 "nbformat": 4,
 "nbformat_minor": 5
}
